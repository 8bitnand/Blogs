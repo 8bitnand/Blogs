{
 "cells": [
  {
   "cell_type": "code",
   "execution_count": null,
   "metadata": {},
   "outputs": [],
   "source": [
    "import torch \n",
    "from datasets import load_dataset\n",
    "from diffusers import DDPMPipeline, UNet2DModel, DDPMScheduler\n",
    "import matplotlib.pyplot as plt\n",
    "import cv2\n",
    "import numpy\n",
    "from skimage.color import rgb2lab, lab2rgb\n",
    "import torch\n",
    "from torchvision import transforms\n",
    "import PIL.Image as I\n",
    "from mpl_toolkits.axes_grid1 import ImageGrid\n",
    "import random\n",
    "from matplotlib.colors import LinearSegmentedColormap"
   ]
  },
  {
   "cell_type": "code",
   "execution_count": null,
   "metadata": {},
   "outputs": [],
   "source": [
    "dataset = load_dataset(\"m1guelpf/nouns\", split=\"train\")\n",
    "dataset = dataset.train_test_split(0.2)\n",
    "# test_dataloader = torch.utils.data.DataLoader(dataset[\"test\"], batch_size=8)\n",
    "rgb = dataset[\"test\"][0:4][\"image\"]\n",
    "lab = [rgb2lab(image) for image in rgb]"
   ]
  },
  {
   "cell_type": "code",
   "execution_count": null,
   "metadata": {},
   "outputs": [],
   "source": [
    "#\n",
    "\n",
    "fig = plt.figure(figsize=(8., 8.))\n",
    "grid = ImageGrid(fig, 111,  # similar to subplot(111)\n",
    "                 nrows_ncols=(4, 3),  # creates 2x2 grid of axes\n",
    "                 axes_pad=0.1,  # pad between axes in inch.\n",
    "                 )\n",
    "\n",
    "cmap_green_to_red = LinearSegmentedColormap.from_list(\n",
    "    'green_to_red', [(0, 'green'), (1, 'red')], N=255\n",
    ")\n",
    "\n",
    "cmap_blue_to_yellow = LinearSegmentedColormap.from_list(\n",
    "    'blue_to_yellow', [(0, 'blue'), (1, 'yellow')], N=255\n",
    ")\n",
    "lab_list = []\n",
    "c = [\"gray\",cmap_blue_to_yellow ,cmap_green_to_red]\n",
    "j = 0\n",
    "for l in lab:\n",
    "    for i in range(3):\n",
    "        lab_list.append(l[..., i])\n",
    "\n",
    "i = 0 \n",
    "for ax, im in zip(grid, numpy.array(lab_list)):\n",
    "    # Iterating over the grid returns the Axes.\n",
    "    ax.imshow(im, cmap=c[(i)%3])\n",
    "    ax.axis(\"off\")\n",
    "    i += 1\n",
    "\n",
    "plt.savefig(\"lab channels.jpg\")"
   ]
  },
  {
   "cell_type": "code",
   "execution_count": null,
   "metadata": {},
   "outputs": [],
   "source": [
    "unet_dir = \"../m1guelpf_nouns/unet/\"\n",
    "sche_dir = \"../m1guelpf_nouns/scheduler/\"\n",
    "device = \"cuda\"\n",
    "unet = UNet2DModel.from_pretrained(unet_dir)\n",
    "scheduler = DDPMScheduler.from_pretrained(sche_dir)\n",
    "pipeline = DDPMPipeline(unet=unet, scheduler=scheduler).to(device)"
   ]
  },
  {
   "cell_type": "code",
   "execution_count": null,
   "metadata": {},
   "outputs": [],
   "source": [
    "test_images = rgb\n",
    "tfms = transforms.Compose(\n",
    "        [\n",
    "            transforms.Resize((128, 128)),\n",
    "            transforms.ColorJitter(\n",
    "                brightness=0.1, contrast=0.9, saturation=(1.0, 2.0), hue=0\n",
    "            ),\n",
    "            transforms.ToTensor(),\n",
    "        ]\n",
    "    )   \n",
    "\n",
    "test_images = [tfms(image.convert(\"L\").convert(\"RGB\")) for image in test_images]\n",
    "test_images = torch.stack(test_images)\n"
   ]
  },
  {
   "cell_type": "code",
   "execution_count": null,
   "metadata": {},
   "outputs": [],
   "source": [
    "\n",
    "# def generate():\n",
    "images = pipeline(condition_images=test_images.to(device),\n",
    "                 output_type=\"numpy\",\n",
    "                num_inference_steps=1000,\n",
    "                generator=torch.manual_seed(13)\n",
    "                 ).images\n"
   ]
  }
 ],
 "metadata": {
  "language_info": {
   "name": "python"
  }
 },
 "nbformat": 4,
 "nbformat_minor": 2
}
